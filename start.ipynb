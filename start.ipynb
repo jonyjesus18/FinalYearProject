{
 "cells": [
  {
   "cell_type": "code",
   "execution_count": 42,
   "metadata": {},
   "outputs": [],
   "source": [
    "from scipy import io\n",
    "import numpy as np\n",
    "import pandas as pd\n",
    "\n",
    "from classes.matlab_reader import matlab_reader\n",
    "from classes.grid_funcs import map_grid,dataset,data_wizard\n",
    "\n",
    "matlab = matlab_reader('AIRS_40KM_2022/20220125_AIRS_3DST-1_40km_grid.mat')\n",
    "grid = map_grid()\n",
    "wizard = data_wizard()\n"
   ]
  },
  {
   "cell_type": "code",
   "execution_count": 43,
   "metadata": {},
   "outputs": [
    {
     "name": "stdout",
     "output_type": "stream",
     "text": [
      "(501, 501)\n"
     ]
    }
   ],
   "source": [
    "temp_data = matlab.select(\n",
    "    hemisphere= 'sh',\n",
    "    data_field='tp',\n",
    "    daytime='night',\n",
    "    altitude=36)   \n",
    "    \n",
    "select_area_indexer = grid.select_area_indexer(\n",
    "    min_lat= -34,\n",
    "    max_lat= -22,\n",
    "    min_lon= -74,\n",
    "    max_lon= -63)\n"
   ]
  },
  {
   "cell_type": "code",
   "execution_count": null,
   "metadata": {},
   "outputs": [],
   "source": []
  },
  {
   "cell_type": "code",
   "execution_count": 40,
   "metadata": {},
   "outputs": [],
   "source": [
    "data = wizard.data_filtering(select_area_indexer = select_area_indexer ,data = temp_data)"
   ]
  },
  {
   "cell_type": "code",
   "execution_count": 41,
   "metadata": {},
   "outputs": [],
   "source": [
    "mean = dataset(data).mean"
   ]
  },
  {
   "cell_type": "code",
   "execution_count": 72,
   "metadata": {},
   "outputs": [],
   "source": [
    "from os import listdir\n",
    "from os.path import isfile, join\n",
    "from datetime import datetime\n",
    "\n",
    "def extract_date(filename):\n",
    "    date_string = filename.split(\"_\")[0]\n",
    "    date_obj = datetime.strptime(date_string, '%Y%m%d')\n",
    "    return date_obj.date()\n",
    "\n",
    "FILES = np.sort(listdir('AIRS_40KM_2018/'))\n",
    "FILES_DATE = [extract_date(file) for file in FILES]"
   ]
  },
  {
   "cell_type": "code",
   "execution_count": 73,
   "metadata": {},
   "outputs": [
    {
     "name": "stdout",
     "output_type": "stream",
     "text": [
      "(501, 501)\n",
      "(501, 501)\n",
      "(501, 501)\n",
      "(501, 501)\n"
     ]
    },
    {
     "name": "stderr",
     "output_type": "stream",
     "text": [
      "/Users/joaojesus/Desktop/FinalYearProject/classes/grid_funcs.py:34: RuntimeWarning: Mean of empty slice\n",
      "  self.mean = np.nanmean(data)\n",
      "/Users/joaojesus/Desktop/FinalYearProject/classes/grid_funcs.py:35: RuntimeWarning: All-NaN slice encountered\n",
      "  self.max = np.nanmax(data)\n",
      "/Users/joaojesus/Desktop/FinalYearProject/classes/grid_funcs.py:36: RuntimeWarning: All-NaN slice encountered\n",
      "  self.min = np.nanmin(data)\n"
     ]
    },
    {
     "name": "stdout",
     "output_type": "stream",
     "text": [
      "(501, 501)\n",
      "(501, 501)\n",
      "(501, 501)\n",
      "(501, 501)\n",
      "(501, 501)\n",
      "(501, 501)\n",
      "(501, 501)\n",
      "(501, 501)\n",
      "(501, 501)\n",
      "(501, 501)\n",
      "(501, 501)\n",
      "(501, 501)\n",
      "(501, 501)\n",
      "(501, 501)\n",
      "(501, 501)\n",
      "(501, 501)\n",
      "(501, 501)\n",
      "(501, 501)\n",
      "(501, 501)\n",
      "(501, 501)\n",
      "(501, 501)\n",
      "(501, 501)\n",
      "(501, 501)\n",
      "(501, 501)\n",
      "(501, 501)\n",
      "(501, 501)\n",
      "(501, 501)\n",
      "(501, 501)\n",
      "(501, 501)\n",
      "(501, 501)\n",
      "(501, 501)\n",
      "(501, 501)\n",
      "(501, 501)\n",
      "(501, 501)\n",
      "(501, 501)\n",
      "(501, 501)\n",
      "(501, 501)\n",
      "(501, 501)\n",
      "(501, 501)\n",
      "(501, 501)\n",
      "(501, 501)\n",
      "(501, 501)\n",
      "(501, 501)\n",
      "(501, 501)\n",
      "(501, 501)\n",
      "(501, 501)\n",
      "(501, 501)\n",
      "(501, 501)\n",
      "(501, 501)\n",
      "(501, 501)\n",
      "(501, 501)\n",
      "(501, 501)\n",
      "(501, 501)\n",
      "(501, 501)\n",
      "(501, 501)\n",
      "(501, 501)\n",
      "(501, 501)\n",
      "(501, 501)\n",
      "(501, 501)\n",
      "(501, 501)\n",
      "(501, 501)\n",
      "(501, 501)\n",
      "(501, 501)\n",
      "(501, 501)\n",
      "(501, 501)\n",
      "(501, 501)\n",
      "(501, 501)\n",
      "(501, 501)\n",
      "(501, 501)\n",
      "(501, 501)\n",
      "(501, 501)\n",
      "(501, 501)\n",
      "(501, 501)\n",
      "(501, 501)\n",
      "(501, 501)\n",
      "(501, 501)\n",
      "(501, 501)\n",
      "(501, 501)\n",
      "(501, 501)\n",
      "(501, 501)\n",
      "(501, 501)\n",
      "(501, 501)\n",
      "(501, 501)\n",
      "(501, 501)\n",
      "(501, 501)\n",
      "(501, 501)\n",
      "(501, 501)\n",
      "(501, 501)\n",
      "(501, 501)\n",
      "(501, 501)\n",
      "(501, 501)\n",
      "(501, 501)\n",
      "(501, 501)\n",
      "(501, 501)\n",
      "(501, 501)\n",
      "(501, 501)\n",
      "(501, 501)\n",
      "(501, 501)\n",
      "(501, 501)\n",
      "(501, 501)\n",
      "(501, 501)\n",
      "(501, 501)\n",
      "(501, 501)\n",
      "(501, 501)\n",
      "(501, 501)\n",
      "(501, 501)\n",
      "(501, 501)\n",
      "(501, 501)\n",
      "(501, 501)\n",
      "(501, 501)\n",
      "(501, 501)\n",
      "(501, 501)\n",
      "(501, 501)\n",
      "(501, 501)\n",
      "(501, 501)\n",
      "(501, 501)\n",
      "(501, 501)\n",
      "(501, 501)\n",
      "(501, 501)\n",
      "(501, 501)\n",
      "(501, 501)\n",
      "(501, 501)\n",
      "(501, 501)\n",
      "(501, 501)\n",
      "(501, 501)\n",
      "(501, 501)\n",
      "(501, 501)\n",
      "(501, 501)\n",
      "(501, 501)\n"
     ]
    }
   ],
   "source": [
    "means = []\n",
    "for file in FILES:\n",
    "    try:\n",
    "        matlab = matlab_reader('AIRS_40KM_2018/' + file)\n",
    "        full_data = matlab.select(\n",
    "            hemisphere= 'sh',\n",
    "            data_field='tp',\n",
    "            daytime='night',\n",
    "            altitude=36)   \n",
    "            \n",
    "        select_area_indexer = grid.select_area_indexer(\n",
    "            min_lat= -34,\n",
    "            max_lat= -22,\n",
    "            min_lon= -74,\n",
    "            max_lon= -63)\n",
    "\n",
    "        selected_data = wizard.data_filtering(select_area_indexer = select_area_indexer ,data = full_data)\n",
    "        mean = dataset(selected_data).mean\n",
    "        means.append(mean)\n",
    "    except:\n",
    "        pass\n"
   ]
  },
  {
   "cell_type": "code",
   "execution_count": 76,
   "metadata": {},
   "outputs": [
    {
     "data": {
      "image/png": "[encoded data removed]",
      "text/plain": [
       "<Figure size 640x480 with 1 Axes>"
      ]
     },
     "metadata": {},
     "output_type": "display_data"
    }
   ],
   "source": [
    "import matplotlib.pyplot as plt\n",
    "import numpy as np\n",
    "y = means\n",
    "x = FILES_DATE[:len(means)]\n",
    "plt.plot(x,y, linestyle = 'dotted')\n",
    "plt.show()"
   ]
  },
  {
   "cell_type": "code",
   "execution_count": 57,
   "metadata": {},
   "outputs": [
    {
     "data": {
      "text/plain": [
       "61"
      ]
     },
     "execution_count": 57,
     "metadata": {},
     "output_type": "execute_result"
    }
   ],
   "source": [
    "len(means)"
   ]
  },
  {
   "cell_type": "code",
   "execution_count": 63,
   "metadata": {},
   "outputs": [
    {
     "data": {
      "text/plain": [
       "61"
      ]
     },
     "execution_count": 63,
     "metadata": {},
     "output_type": "execute_result"
    }
   ],
   "source": [
    "len(np.arange(1,len(means)+1))"
   ]
  },
  {
   "cell_type": "code",
   "execution_count": null,
   "metadata": {},
   "outputs": [],
   "source": []
  }
 ],
 "metadata": {
  "kernelspec": {
   "display_name": "Python 3.10.8 ('fyp_env': venv)",
   "language": "python",
   "name": "python3"
  },
  "language_info": {
   "codemirror_mode": {
    "name": "ipython",
    "version": 3
   },
   "file_extension": ".py",
   "mimetype": "text/x-python",
   "name": "python",
   "nbconvert_exporter": "python",
   "pygments_lexer": "ipython3",
   "version": "3.10.8"
  },
  "orig_nbformat": 4,
  "vscode": {
   "interpreter": {
    "hash": "69000bcf4096880489a1f883c0c935d5e60bfa1c9d3018250aeac379830091d7"
   }
  }
 },
 "nbformat": 4,
 "nbformat_minor": 2
}
