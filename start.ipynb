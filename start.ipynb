{
 "cells": [
  {
   "cell_type": "code",
   "execution_count": 20,
   "metadata": {},
   "outputs": [],
   "source": [
    "import scipy\n",
    "import numpy as np\n",
    "from math import atan2, degrees, radians, sqrt\n",
    "from pyproj import Geod\n",
    "\n",
    "# Load the .mat file with squeeze_me and struct_as_record options\n",
    "mat_data = scipy.io.loadmat('AIRS_40KM_2022/20220101_AIRS_3DST-1_40km_grid.mat')\n",
    "mat_data_info = scipy.io.whosmat('AIRS_40KM_2022/20220101_AIRS_3DST-1_40km_grid.mat')\n"
   ]
  },
  {
   "cell_type": "code",
   "execution_count": 7,
   "metadata": {},
   "outputs": [],
   "source": [
    "airs_nh = mat_data['Airs']['NH']\n",
    "airs_sh = mat_data['Airs']['SH']\n",
    "airs_alt = mat_data['Airs']['Alt']\n",
    "airs_x = mat_data['Airs']['x'][0][0][0]\n",
    "airs_y = mat_data['Airs']['y'][0][0][0]\n",
    "airs_date = mat_data['Airs']['Date']"
   ]
  },
  {
   "cell_type": "code",
   "execution_count": 38,
   "metadata": {},
   "outputs": [
    {
     "ename": "SyntaxError",
     "evalue": "unterminated string literal (detected at line 1) (217610903.py, line 1)",
     "output_type": "error",
     "traceback": [
      "\u001b[0;36m  Cell \u001b[0;32mIn[38], line 1\u001b[0;36m\u001b[0m\n\u001b[0;31m    mat_data['Airs']['NH]\u001b[0m\n\u001b[0m                     ^\u001b[0m\n\u001b[0;31mSyntaxError\u001b[0m\u001b[0;31m:\u001b[0m unterminated string literal (detected at line 1)\n"
     ]
    }
   ],
   "source": [
    "mat_data['Airs']['NH']"
   ]
  },
  {
   "cell_type": "code",
   "execution_count": 30,
   "metadata": {},
   "outputs": [
    {
     "ename": "OSError",
     "evalue": "Unable to open file (file signature not found)",
     "output_type": "error",
     "traceback": [
      "\u001b[0;31m---------------------------------------------------------------------------\u001b[0m",
      "\u001b[0;31mOSError\u001b[0m                                   Traceback (most recent call last)",
      "Cell \u001b[0;32mIn[30], line 1\u001b[0m\n\u001b[0;32m----> 1\u001b[0m f \u001b[39m=\u001b[39m h5py\u001b[39m.\u001b[39;49mFile(\u001b[39m'\u001b[39;49m\u001b[39mAIRS_40KM_2022/20220101_AIRS_3DST-1_40km_grid.mat\u001b[39;49m\u001b[39m'\u001b[39;49m,\u001b[39m'\u001b[39;49m\u001b[39mr+\u001b[39;49m\u001b[39m'\u001b[39;49m)\n",
      "File \u001b[0;32m~/Desktop/FinalYearProject/fyp_env/lib/python3.10/site-packages/h5py/_hl/files.py:567\u001b[0m, in \u001b[0;36mFile.__init__\u001b[0;34m(self, name, mode, driver, libver, userblock_size, swmr, rdcc_nslots, rdcc_nbytes, rdcc_w0, track_order, fs_strategy, fs_persist, fs_threshold, fs_page_size, page_buf_size, min_meta_keep, min_raw_keep, locking, alignment_threshold, alignment_interval, meta_block_size, **kwds)\u001b[0m\n\u001b[1;32m    558\u001b[0m     fapl \u001b[39m=\u001b[39m make_fapl(driver, libver, rdcc_nslots, rdcc_nbytes, rdcc_w0,\n\u001b[1;32m    559\u001b[0m                      locking, page_buf_size, min_meta_keep, min_raw_keep,\n\u001b[1;32m    560\u001b[0m                      alignment_threshold\u001b[39m=\u001b[39malignment_threshold,\n\u001b[1;32m    561\u001b[0m                      alignment_interval\u001b[39m=\u001b[39malignment_interval,\n\u001b[1;32m    562\u001b[0m                      meta_block_size\u001b[39m=\u001b[39mmeta_block_size,\n\u001b[1;32m    563\u001b[0m                      \u001b[39m*\u001b[39m\u001b[39m*\u001b[39mkwds)\n\u001b[1;32m    564\u001b[0m     fcpl \u001b[39m=\u001b[39m make_fcpl(track_order\u001b[39m=\u001b[39mtrack_order, fs_strategy\u001b[39m=\u001b[39mfs_strategy,\n\u001b[1;32m    565\u001b[0m                      fs_persist\u001b[39m=\u001b[39mfs_persist, fs_threshold\u001b[39m=\u001b[39mfs_threshold,\n\u001b[1;32m    566\u001b[0m                      fs_page_size\u001b[39m=\u001b[39mfs_page_size)\n\u001b[0;32m--> 567\u001b[0m     fid \u001b[39m=\u001b[39m make_fid(name, mode, userblock_size, fapl, fcpl, swmr\u001b[39m=\u001b[39;49mswmr)\n\u001b[1;32m    569\u001b[0m \u001b[39mif\u001b[39;00m \u001b[39misinstance\u001b[39m(libver, \u001b[39mtuple\u001b[39m):\n\u001b[1;32m    570\u001b[0m     \u001b[39mself\u001b[39m\u001b[39m.\u001b[39m_libver \u001b[39m=\u001b[39m libver\n",
      "File \u001b[0;32m~/Desktop/FinalYearProject/fyp_env/lib/python3.10/site-packages/h5py/_hl/files.py:233\u001b[0m, in \u001b[0;36mmake_fid\u001b[0;34m(name, mode, userblock_size, fapl, fcpl, swmr)\u001b[0m\n\u001b[1;32m    231\u001b[0m     fid \u001b[39m=\u001b[39m h5f\u001b[39m.\u001b[39mopen(name, flags, fapl\u001b[39m=\u001b[39mfapl)\n\u001b[1;32m    232\u001b[0m \u001b[39melif\u001b[39;00m mode \u001b[39m==\u001b[39m \u001b[39m'\u001b[39m\u001b[39mr+\u001b[39m\u001b[39m'\u001b[39m:\n\u001b[0;32m--> 233\u001b[0m     fid \u001b[39m=\u001b[39m h5f\u001b[39m.\u001b[39;49mopen(name, h5f\u001b[39m.\u001b[39;49mACC_RDWR, fapl\u001b[39m=\u001b[39;49mfapl)\n\u001b[1;32m    234\u001b[0m \u001b[39melif\u001b[39;00m mode \u001b[39min\u001b[39;00m [\u001b[39m'\u001b[39m\u001b[39mw-\u001b[39m\u001b[39m'\u001b[39m, \u001b[39m'\u001b[39m\u001b[39mx\u001b[39m\u001b[39m'\u001b[39m]:\n\u001b[1;32m    235\u001b[0m     fid \u001b[39m=\u001b[39m h5f\u001b[39m.\u001b[39mcreate(name, h5f\u001b[39m.\u001b[39mACC_EXCL, fapl\u001b[39m=\u001b[39mfapl, fcpl\u001b[39m=\u001b[39mfcpl)\n",
      "File \u001b[0;32mh5py/_objects.pyx:54\u001b[0m, in \u001b[0;36mh5py._objects.with_phil.wrapper\u001b[0;34m()\u001b[0m\n",
      "File \u001b[0;32mh5py/_objects.pyx:55\u001b[0m, in \u001b[0;36mh5py._objects.with_phil.wrapper\u001b[0;34m()\u001b[0m\n",
      "File \u001b[0;32mh5py/h5f.pyx:106\u001b[0m, in \u001b[0;36mh5py.h5f.open\u001b[0;34m()\u001b[0m\n",
      "\u001b[0;31mOSError\u001b[0m: Unable to open file (file signature not found)"
     ]
    }
   ],
   "source": [
    "f = h5py.File('AIRS_40KM_2022/20220101_AIRS_3DST-1_40km_grid.mat','r+')\n"
   ]
  },
  {
   "cell_type": "code",
   "execution_count": 14,
   "metadata": {},
   "outputs": [],
   "source": [
    "# airs_nh_night_tp = mat_data['Airs']['NH']['Night']['tp']\n",
    "airs_nh = mat_data['Airs']['NH']\n"
   ]
  },
  {
   "cell_type": "code",
   "execution_count": 19,
   "metadata": {},
   "outputs": [
    {
     "data": {
      "text/plain": [
       "(1,)"
      ]
     },
     "execution_count": 19,
     "metadata": {},
     "output_type": "execute_result"
    }
   ],
   "source": [
    "np.shape(airs_nh[0][0][0])"
   ]
  },
  {
   "cell_type": "code",
   "execution_count": 204,
   "metadata": {},
   "outputs": [],
   "source": [
    "import math\n",
    "\n",
    "def km_to_deg(km, radius = 6371.0):\n",
    "    \"\"\"\n",
    "    Convert a distance in kilometers to degrees based on the radius of a sphere.\n",
    "\n",
    "    Args:\n",
    "        km (float): Distance in kilometers.\n",
    "        radius (float): Radius of the sphere in kilometers.\n",
    "\n",
    "    Returns:\n",
    "        float: Equivalent distance in degrees.\n",
    "    \"\"\"\n",
    "    earth_radius_km = 6371.0  # mean radius of the Earth in kilometers\n",
    "    angle = km / earth_radius_km  # angle subtended by the distance at the center of the Earth\n",
    "    deg = math.degrees(angle * radius / earth_radius_km)\n",
    "    return deg\n",
    "\n",
    "\n",
    "km2deg = np.vectorize(km_to_deg)\n"
   ]
  },
  {
   "cell_type": "code",
   "execution_count": null,
   "metadata": {},
   "outputs": [],
   "source": []
  },
  {
   "cell_type": "code",
   "execution_count": 205,
   "metadata": {},
   "outputs": [],
   "source": [
    "# Original MATLAB Code\n",
    "'''\n",
    "[Airs.X,Airs.Y] = ndgrid(Airs.x,Airs.y);\n",
    "[Airs.NH.Lat,Airs.NH.Lon] = reckon( 89.999,0,km2deg(sqrt(Airs.X.^2 + Airs.Y.^2)),atan2d(Airs.X,Airs.Y)); \n",
    "[Airs.SH.Lat,Airs.SH.Lon] = reckon(-89.999,0,km2deg(sqrt(Airs.X.^2 + Airs.Y.^2)),atan2d(Airs.X,Airs.Y)); \n",
    "'''\n",
    "\n",
    "g = Geod(ellps='clrk66')\n",
    "\n",
    "Airs = {}\n",
    "# create ndgrid using meshgrid\n",
    "Airs_X, Airs_Y = np.meshgrid(airs_x, airs_y)\n",
    "\n",
    "# calculate latitude and longitude of NH and SH\n",
    "distance = km2deg((np.sqrt(np.square(Airs_X) + np.square(Airs_Y))))\n",
    "azimuth = np.degrees(np.arctan2(Airs_X, Airs_Y))\n",
    "\n",
    "# nh_lat, nh_lon ,_ = g.fwd(90, 0, distance, azimuth)\n",
    "# sh_lat, sh_lon ,_ = g.fwd(-90, 0, distance, azimuth)\n",
    "\n",
    "# # assign the calculated values to the dictionary\n",
    "# Airs['NH'] = {'Lat': nh_lat, 'Lon': nh_lon}\n",
    "# Airs['SH'] = {'Lat': sh_lat, 'Lon': sh_lon}"
   ]
  },
  {
   "cell_type": "code",
   "execution_count": 221,
   "metadata": {},
   "outputs": [],
   "source": [
    "\n",
    "\n",
    "def reckon(distance, azimuth):\n",
    "   nh_lat, nh_lon, _ = g.fwd(90, 0, distance, azimuth)  # ignore third value\n",
    "   return nh_lat, nh_lon\n",
    "\n",
    "reckon_v = np.vectorize(reckon)\n",
    "\n",
    "result = reckon_v(distance,azimuth)\n",
    "np_result = np.asarray(result)"
   ]
  },
  {
   "cell_type": "code",
   "execution_count": 231,
   "metadata": {},
   "outputs": [
    {
     "ename": "AttributeError",
     "evalue": "'numpy.ndarray' object has no attribute 'reverse'",
     "output_type": "error",
     "traceback": [
      "\u001b[0;31m---------------------------------------------------------------------------\u001b[0m",
      "\u001b[0;31mAttributeError\u001b[0m                            Traceback (most recent call last)",
      "Cell \u001b[0;32mIn[231], line 1\u001b[0m\n\u001b[0;32m----> 1\u001b[0m np_result\u001b[39m.\u001b[39;49mreverse()\u001b[39m.\u001b[39mshape()\n",
      "\u001b[0;31mAttributeError\u001b[0m: 'numpy.ndarray' object has no attribute 'reverse'"
     ]
    }
   ],
   "source": [
    "np_result.reverse().shape()"
   ]
  },
  {
   "cell_type": "code",
   "execution_count": 235,
   "metadata": {},
   "outputs": [],
   "source": [
    "lat = np_result[0]\n",
    "lon = np_result[1]"
   ]
  },
  {
   "cell_type": "code",
   "execution_count": 239,
   "metadata": {},
   "outputs": [
    {
     "data": {
      "text/plain": [
       "array([[ 0.00073792,  0.00073422,  0.00073051, ..., -0.00073051,\n",
       "        -0.00073422, -0.00073792],\n",
       "       [ 0.00073297,  0.00072925,  0.00072552, ..., -0.00072552,\n",
       "        -0.00072925, -0.00073297],\n",
       "       [ 0.00072803,  0.00072428,  0.00072053, ..., -0.00072053,\n",
       "        -0.00072428, -0.00072803],\n",
       "       ...,\n",
       "       [ 0.00024433,  0.00024225,  0.00024018, ..., -0.00024018,\n",
       "        -0.00024225, -0.00024433],\n",
       "       [ 0.00024516,  0.00024308,  0.00024101, ..., -0.00024101,\n",
       "        -0.00024308, -0.00024516],\n",
       "       [ 0.00024597,  0.00024391,  0.00024185, ..., -0.00024185,\n",
       "        -0.00024391, -0.00024597]])"
      ]
     },
     "execution_count": 239,
     "metadata": {},
     "output_type": "execute_result"
    }
   ],
   "source": [
    "lon"
   ]
  },
  {
   "cell_type": "code",
   "execution_count": null,
   "metadata": {},
   "outputs": [],
   "source": []
  }
 ],
 "metadata": {
  "kernelspec": {
   "display_name": "Python 3.10.8 ('fyp_env': venv)",
   "language": "python",
   "name": "python3"
  },
  "language_info": {
   "codemirror_mode": {
    "name": "ipython",
    "version": 3
   },
   "file_extension": ".py",
   "mimetype": "text/x-python",
   "name": "python",
   "nbconvert_exporter": "python",
   "pygments_lexer": "ipython3",
   "version": "3.10.8"
  },
  "orig_nbformat": 4,
  "vscode": {
   "interpreter": {
    "hash": "69000bcf4096880489a1f883c0c935d5e60bfa1c9d3018250aeac379830091d7"
   }
  }
 },
 "nbformat": 4,
 "nbformat_minor": 2
}
