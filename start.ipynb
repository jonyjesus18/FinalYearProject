{
 "cells": [
  {
   "cell_type": "code",
   "execution_count": 2,
   "metadata": {},
   "outputs": [
    {
     "ename": "KeyError",
     "evalue": "'variable_name'",
     "output_type": "error",
     "traceback": [
      "\u001b[0;31m---------------------------------------------------------------------------\u001b[0m",
      "\u001b[0;31mKeyError\u001b[0m                                  Traceback (most recent call last)",
      "Cell \u001b[0;32mIn[2], line 7\u001b[0m\n\u001b[1;32m      4\u001b[0m mat_data \u001b[39m=\u001b[39m scipy\u001b[39m.\u001b[39mio\u001b[39m.\u001b[39mloadmat(\u001b[39m'\u001b[39m\u001b[39mAIRS_40KM_2022/20220101_AIRS_3DST-1_40km_grid.mat\u001b[39m\u001b[39m'\u001b[39m, squeeze_me\u001b[39m=\u001b[39m\u001b[39mTrue\u001b[39;00m, struct_as_record\u001b[39m=\u001b[39m\u001b[39mFalse\u001b[39;00m)\n\u001b[1;32m      6\u001b[0m \u001b[39m# Access the data\u001b[39;00m\n\u001b[0;32m----> 7\u001b[0m data_variable \u001b[39m=\u001b[39m mat_data[\u001b[39m'\u001b[39;49m\u001b[39mvariable_name\u001b[39;49m\u001b[39m'\u001b[39;49m]\n",
      "\u001b[0;31mKeyError\u001b[0m: 'variable_name'"
     ]
    }
   ],
   "source": [
    "import scipy\n",
    "\n",
    "# Load the .mat file with squeeze_me and struct_as_record options\n",
    "mat_data = scipy.io.loadmat('AIRS_40KM_2022/20220101_AIRS_3DST-1_40km_grid.mat', squeeze_me=True, struct_as_record=False)\n",
    "\n",
    "# Access the data\n",
    "data_variable = mat_data['variable_name']"
   ]
  },
  {
   "cell_type": "code",
   "execution_count": 4,
   "metadata": {},
   "outputs": [
    {
     "data": {
      "text/plain": [
       "<scipy.io.matlab._mio5_params.mat_struct at 0x112cb2f20>"
      ]
     },
     "execution_count": 4,
     "metadata": {},
     "output_type": "execute_result"
    }
   ],
   "source": [
    "mat_data['Airs'][]"
   ]
  },
  {
   "cell_type": "code",
   "execution_count": null,
   "metadata": {},
   "outputs": [],
   "source": []
  }
 ],
 "metadata": {
  "kernelspec": {
   "display_name": "Python 3.10.8 ('fyp_env': venv)",
   "language": "python",
   "name": "python3"
  },
  "language_info": {
   "codemirror_mode": {
    "name": "ipython",
    "version": 3
   },
   "file_extension": ".py",
   "mimetype": "text/x-python",
   "name": "python",
   "nbconvert_exporter": "python",
   "pygments_lexer": "ipython3",
   "version": "3.10.8"
  },
  "orig_nbformat": 4,
  "vscode": {
   "interpreter": {
    "hash": "69000bcf4096880489a1f883c0c935d5e60bfa1c9d3018250aeac379830091d7"
   }
  }
 },
 "nbformat": 4,
 "nbformat_minor": 2
}
