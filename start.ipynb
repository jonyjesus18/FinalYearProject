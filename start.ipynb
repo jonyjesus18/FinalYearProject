{
 "cells": [
  {
   "cell_type": "code",
   "execution_count": 2,
   "metadata": {},
   "outputs": [],
   "source": [
    "from scipy import io\n",
    "import numpy as np\n",
    "import pandas as pd\n",
    "\n",
    "from classes.matlab_reader import matlab_reader\n",
    "from classes.grid_funcs import map_grid,dataset,data_wizard\n",
    "\n",
    "matlab = matlab_reader('AIRS_125KM_2018/20180101_AIRS_3DST-1_125km_grid')\n",
    "# matlab = matlab_reader('AIRS_40KM_2022/20220101_AIRS_3DST-1_40km_grid.mat')\n",
    "\n",
    "grid = map_grid(grid_size=125)\n",
    "wizard = data_wizard()\n",
    "\n",
    "# \"BG\" : 0,\n",
    "# \"k\" : 1,\n",
    "# \"bg\" : 2,\n",
    "# \"l\" : 3,\n",
    "# \"m\" : 4,\n",
    "# \"mfx\" : 5,\n",
    "# \"mfy\" : 6,\n",
    "\n",
    "\n",
    "temp_data = matlab.select(\n",
    "    hemisphere= 'nh',\n",
    "    data_field='mfy',\n",
    "    daytime='night',\n",
    "    altitude=0)   "
   ]
  },
  {
   "cell_type": "code",
   "execution_count": 4,
   "metadata": {},
   "outputs": [],
   "source": [
    "temp_data = matlab.select(\n",
    "    hemisphere= 'nh',\n",
    "    data_field='k',\n",
    "    daytime='night',\n",
    "    altitude=2)   \n",
    "    \n",
    "select_area_indexer = grid.select_area_indexer(\n",
    "    min_lat= 60,\n",
    "    max_lat= 90,\n",
    "    min_lon= -180,\n",
    "    max_lon= 180)\n",
    "\n",
    "data = wizard.data_filtering(select_area_indexer = select_area_indexer ,data = temp_data)"
   ]
  },
  {
   "cell_type": "code",
   "execution_count": 5,
   "metadata": {},
   "outputs": [
    {
     "name": "stdout",
     "output_type": "stream",
     "text": [
      "[[nan nan nan ... nan nan nan]\n",
      " [nan nan nan ... nan nan nan]\n",
      " [nan nan nan ... nan nan nan]\n",
      " ...\n",
      " [nan nan nan ... nan nan nan]\n",
      " [nan nan nan ... nan nan nan]\n",
      " [nan nan nan ... nan nan nan]]\n"
     ]
    }
   ],
   "source": [
    "print(data)"
   ]
  },
  {
   "cell_type": "code",
   "execution_count": null,
   "metadata": {},
   "outputs": [],
   "source": []
  }
 ],
 "metadata": {
  "kernelspec": {
   "display_name": "Python 3.10.8 ('fyp_env': venv)",
   "language": "python",
   "name": "python3"
  },
  "language_info": {
   "codemirror_mode": {
    "name": "ipython",
    "version": 3
   },
   "file_extension": ".py",
   "mimetype": "text/x-python",
   "name": "python",
   "nbconvert_exporter": "python",
   "pygments_lexer": "ipython3",
   "version": "3.10.8"
  },
  "orig_nbformat": 4,
  "vscode": {
   "interpreter": {
    "hash": "69000bcf4096880489a1f883c0c935d5e60bfa1c9d3018250aeac379830091d7"
   }
  }
 },
 "nbformat": 4,
 "nbformat_minor": 2
}
