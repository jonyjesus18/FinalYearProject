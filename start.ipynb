{
 "cells": [
  {
   "cell_type": "code",
   "execution_count": 160,
   "metadata": {},
   "outputs": [],
   "source": [
    "import scipy\n",
    "import numpy as np\n",
    "import pandas as pd"
   ]
  },
  {
   "cell_type": "code",
   "execution_count": 156,
   "metadata": {},
   "outputs": [],
   "source": [
    "class matlab_reader():\n",
    "    def __init__(self,file):\n",
    "        self.file_path = file\n",
    "        self.data = scipy.io.loadmat(file)\n",
    "        self.data_info = scipy.io.whosmat(file)\n",
    "\n",
    "        self.data_airs = self.data['Airs']\n",
    "\n",
    "        # to get night values use mat_data['Airs']['NH'][x][x][x][x][1][x][x][x]\n",
    "        # to get day values use   mat_data['Airs']['NH'][x][x][x][x][0][x][x][x]\n",
    "\n",
    "        # to get tp values use mat_data['Airs']['NH'][x][x][x][x][x][x][x][0]\n",
    "        # to get bg values use mat_data['Airs']['NH'][x][x][x][x][x][x][x][1]\n",
    "        # to get A  values use mat_data['Airs']['NH'][x][x][x][x][x][x][x][2]\n",
    "        # to get ha values use mat_data['Airs']['NH'][x][x][x][x][x][x][x][3]\n",
    "        # to get k  values use mat_data['Airs']['NH'][x][x][x][x][x][x][x][4]\n",
    "        # to get l  values use mat_data['Airs']['NH'][x][x][x][x][x][x][x][5]\n",
    "        # to get m  values use mat_data['Airs']['NH'][x][x][x][x][x][x][x][6]\n",
    "        # to get mfx values use mat_data['Airs']['NH'][x][x][x][x][x][x][x][7]\n",
    "        # to get mfy values use mat_data['Airs']['NH'][x][x][x][x][x][x][x][8]\n",
    "\n",
    "\n",
    "        # new_data[0] gives the temperature matrix 501x501 for altitude at lowest level 24\n",
    "        # new_data[1] gives the temperature matrix 501x501 for altitude at lowest level 30\n",
    "        # new_data[2] gives the temperature matrix 501x501 for altitude at lowest level 36\n",
    "        # new_data[3] gives the temperature matrix 501x501 for altitude at lowest level 42\n",
    "        # new_data[4] gives the temperature matrix 501x501 for altitude at lowest level 48\n",
    "        \n",
    "        self.mappings = {\"day\" : 0,\n",
    "                        \"night\": 1,\n",
    "                        \"tp\" : 0,\n",
    "                        \"bg\" : 1,\n",
    "                        \"a\" : 2,\n",
    "                        \"ha\" : 3,\n",
    "                        \"k\" : 4,\n",
    "                        \"l\" : 5,\n",
    "                        \"m\" : 6,\n",
    "                        \"mfx\" : 7,\n",
    "                        \"mfy\" : 8,\n",
    "                        24 : 0,\n",
    "                        30 : 1,\n",
    "                        36 : 2,\n",
    "                        42 : 3,\n",
    "                        48 : 4}\n",
    "    def select(self,\n",
    "        hemisphere = 'NH',\n",
    "        daytime = 'Night',\n",
    "        data_field = 'tp',\n",
    "        altitude = None):\n",
    "        ''' \n",
    "        Returns a selection on the dataset filtered based on the input values\n",
    "        hemisphere : selects what hemisphere to select data, North or South\n",
    "        daytime : selects what time of day to collect values, Night or Day\n",
    "        data_field : selects data field from tp (temperature) , bg , a , ha , k, l , m , mfx and mfy.\n",
    "        '''\n",
    "        \n",
    "        data_ = self.data_airs[hemisphere.upper()][0][0][0][0][self.mappings[daytime.lower()]][0][0][self.mappings[data_field.lower()]]\n",
    "        \n",
    "        # transpose the data to have 5, 501x501 arrays, each for a different altitude level\n",
    "        new_data = np.transpose(np.transpose(data_, (2, 0, 1)), (0, 2, 1)) \n",
    "        \n",
    "        if altitude is not None:\n",
    "            new_data = new_data[self.mappings[altitude]]\n",
    "\n",
    "        print(np.shape(new_data))\n",
    "        return new_data\n",
    "\n",
    "# Example \n",
    "\n",
    "matlab = matlab_reader('AIRS_40KM_2022/20220125_AIRS_3DST-1_40km_grid.mat')\n",
    "\n",
    "matlab.select(\n",
    "    hemisphere= 'sh',\n",
    "    data_field='bg',\n",
    "    daytime='day',\n",
    "    altitude=24)      \n"
   ]
  },
  {
   "cell_type": "code",
   "execution_count": 167,
   "metadata": {},
   "outputs": [],
   "source": [
    "class grid():\n",
    "    def __init__(self):\n",
    "        self.nh_lat = np.genfromtxt('Airs_nh_lat.csv', delimiter=',')\n",
    "        self.nh_lon = np.genfromtxt('Airs_nh_lon.csv', delimiter=',')\n",
    "        self.sh_lat = np.genfromtxt('Airs_sh_lat.csv', delimiter=',')\n",
    "        self.sh_lon = np.genfromtxt('Airs_sh_lon.csv', delimiter=',')\n",
    "    \n",
    "\n"
   ]
  },
  {
   "cell_type": "code",
   "execution_count": 168,
   "metadata": {},
   "outputs": [
    {
     "name": "stderr",
     "output_type": "stream",
     "text": [
      "Fontconfig warning: ignoring UTF-8: not a valid region tag\n"
     ]
    },
    {
     "ename": "ModuleNotFoundError",
     "evalue": "No module named 'mpl_toolkits.basemap'",
     "output_type": "error",
     "traceback": [
      "\u001b[0;31m---------------------------------------------------------------------------\u001b[0m",
      "\u001b[0;31mModuleNotFoundError\u001b[0m                       Traceback (most recent call last)",
      "Cell \u001b[0;32mIn[168], line 3\u001b[0m\n\u001b[1;32m      1\u001b[0m \u001b[39mimport\u001b[39;00m \u001b[39mnumpy\u001b[39;00m \u001b[39mas\u001b[39;00m \u001b[39mnp\u001b[39;00m\n\u001b[1;32m      2\u001b[0m \u001b[39mimport\u001b[39;00m \u001b[39mmatplotlib\u001b[39;00m\u001b[39m.\u001b[39;00m\u001b[39mpyplot\u001b[39;00m \u001b[39mas\u001b[39;00m \u001b[39mplt\u001b[39;00m\n\u001b[0;32m----> 3\u001b[0m \u001b[39mfrom\u001b[39;00m \u001b[39mmpl_toolkits\u001b[39;00m\u001b[39m.\u001b[39;00m\u001b[39mbasemap\u001b[39;00m \u001b[39mimport\u001b[39;00m Basemap\n\u001b[1;32m      5\u001b[0m data \u001b[39m=\u001b[39m np\u001b[39m.\u001b[39mrandom\u001b[39m.\u001b[39mrand(\u001b[39m501\u001b[39m, \u001b[39m501\u001b[39m)\n\u001b[1;32m      6\u001b[0m coords \u001b[39m=\u001b[39m np\u001b[39m.\u001b[39mzeros((\u001b[39m501\u001b[39m, \u001b[39m501\u001b[39m, \u001b[39m2\u001b[39m))\n",
      "\u001b[0;31mModuleNotFoundError\u001b[0m: No module named 'mpl_toolkits.basemap'"
     ]
    }
   ],
   "source": [
    "import numpy as np\n",
    "import matplotlib.pyplot as plt\n",
    "from mpl_toolkits.basemap import Basemap\n",
    "\n",
    "data = np.random.rand(501, 501)\n",
    "coords = np.zeros((501, 501, 2))\n",
    "coords[:, :, 0] = np.linspace(-90, 90, 501)[:, np.newaxis]\n",
    "coords[:, :, 1] = np.linspace(-180, 180, 501)\n",
    "\n",
    "# Define the map projection and plot the map\n",
    "m = Basemap(projection='mill', lat_0=0, lon_0=0)\n",
    "m.drawcoastlines()\n",
    "m.drawcountries()\n",
    "\n",
    "# Define the coordinates of the data\n",
    "lats = coords[:, :, 0]\n",
    "lons = coords[:, :, 1]\n",
    "\n",
    "# Plot the temperature values on the map using a color map\n",
    "temp = data\n",
    "x, y = m(lons, lats)  # Convert the coordinates to the map projection\n",
    "m.pcolormesh(x, y, temp, cmap='coolwarm')  # Plot the temperature values\n",
    "\n",
    "# Add a color bar to the plot\n",
    "cbar = plt.colorbar()\n",
    "cbar.set_label('Temperature')\n",
    "\n",
    "# Show the plot\n",
    "plt.show()"
   ]
  },
  {
   "cell_type": "code",
   "execution_count": 204,
   "metadata": {},
   "outputs": [],
   "source": [
    "\n",
    "import cartopy.crs as ccrs\n",
    "import matplotlib.pyplot as plt\n",
    "\n",
    "# First we specify Coordinate Refference System for Map Projection\n",
    "# We will use Mercator, which is a cylindrical, conformal projection. \n",
    "# It has bery large distortion at high latitudes, cannot \n",
    "# fully reach the polar regions.\n",
    "projection = ccrs.Mercator()\n",
    "\n",
    "# Specify CRS, that will be used to tell the code, where should our data be plotted\n",
    "crs = ccrs.PlateCarree()\n",
    "\n",
    "# Now we will create axes object having specific projection \n",
    "plt.figure(dpi=150)\n",
    "ax = plt.axes(projection=projection, frameon=True)\n",
    "\n",
    "# Draw gridlines in degrees over Mercator map\n",
    "gl = ax.gridlines(crs=crs, draw_labels=True,\n",
    "                  linewidth=.6, color='gray', alpha=0.5, linestyle='-.')\n",
    "gl.xlabel_style = {\"size\" : 7}\n",
    "gl.ylabel_style = {\"size\" : 7}\n",
    "\n",
    "# To plot borders and coastlines, we can use cartopy feature\n",
    "import cartopy.feature as cf\n",
    "ax.add_feature(cf.COASTLINE.with_scale(\"50m\"), lw=0.5)\n",
    "ax.add_feature(cf.BORDERS.with_scale(\"50m\"), lw=0.3)\n",
    "\n",
    "# Now, we will specify extent of our map in minimum/maximum longitude/latitude\n",
    "# Note that these values are specified in degrees of longitude and degrees of latitude\n",
    "# However, we can specify them in any crs that we want, but we need to provide appropriate\n",
    "# crs argument in ax.set_extent\n",
    "lon_min = -20\n",
    "lon_max = 45\n",
    "lat_min = 34\n",
    "lat_max = 60\n",
    "\n",
    "# crs is PlateCarree -> we are explicitly telling axes, that we are creating bounds that are in degrees\n",
    "ax.set_extent([lon_min, lon_max, lat_min, lat_max], crs=crs)\n",
    "plt.title(f\"Temperature anomaly over Europe in {original_data.valid_time.dt.strftime('%B %Y').values}\")\n",
    "plt.show()"
   ]
  },
  {
   "cell_type": "code",
   "execution_count": null,
   "metadata": {},
   "outputs": [],
   "source": []
  },
  {
   "cell_type": "code",
   "execution_count": 205,
   "metadata": {},
   "outputs": [],
   "source": []
  },
  {
   "cell_type": "code",
   "execution_count": 221,
   "metadata": {},
   "outputs": [],
   "source": [
    "\n",
    "\n"
   ]
  },
  {
   "cell_type": "code",
   "execution_count": null,
   "metadata": {},
   "outputs": [],
   "source": []
  }
 ],
 "metadata": {
  "kernelspec": {
   "display_name": "Python 3.10.8 ('fyp_env': venv)",
   "language": "python",
   "name": "python3"
  },
  "language_info": {
   "codemirror_mode": {
    "name": "ipython",
    "version": 3
   },
   "file_extension": ".py",
   "mimetype": "text/x-python",
   "name": "python",
   "nbconvert_exporter": "python",
   "pygments_lexer": "ipython3",
   "version": "3.10.8"
  },
  "orig_nbformat": 4,
  "vscode": {
   "interpreter": {
    "hash": "69000bcf4096880489a1f883c0c935d5e60bfa1c9d3018250aeac379830091d7"
   }
  }
 },
 "nbformat": 4,
 "nbformat_minor": 2
}
